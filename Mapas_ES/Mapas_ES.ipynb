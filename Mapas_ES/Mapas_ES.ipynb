{
 "cells": [
  {
   "cell_type": "markdown",
   "id": "d85f4660",
   "metadata": {},
   "source": [
    "## **Mapas do Espírito Santo**"
   ]
  },
  {
   "cell_type": "markdown",
   "id": "b8475ce5",
   "metadata": {},
   "source": [
    "### **Carregando o Shapefile**"
   ]
  },
  {
   "cell_type": "code",
   "execution_count": 3,
   "id": "f49a60d5",
   "metadata": {},
   "outputs": [
    {
     "name": "stdout",
     "output_type": "stream",
     "text": [
      "Note: you may need to restart the kernel to use updated packages.\n"
     ]
    }
   ],
   "source": [
    "# Instalando a biblioteca geopandas\n",
    "%pip install geopandas --quiet"
   ]
  },
  {
   "cell_type": "code",
   "execution_count": 5,
   "id": "8c688990",
   "metadata": {},
   "outputs": [
    {
     "name": "stdout",
     "output_type": "stream",
     "text": [
      "Note: you may need to restart the kernel to use updated packages.\n"
     ]
    }
   ],
   "source": [
    "# Instalando a biblioteca folium\n",
    "%pip install folium --quiet"
   ]
  },
  {
   "cell_type": "code",
   "execution_count": 6,
   "id": "ed787dc2",
   "metadata": {},
   "outputs": [],
   "source": [
    "# Importando as bibliotecas necessárias\n",
    "import pandas as pd\n",
    "import geopandas as gpd\n",
    "from shapely.geometry import Point\n",
    "from shapely.geometry import MultiPolygon\n",
    "import matplotlib.pyplot as plt\n",
    "import folium"
   ]
  }
 ],
 "metadata": {
  "kernelspec": {
   "display_name": "base",
   "language": "python",
   "name": "python3"
  },
  "language_info": {
   "codemirror_mode": {
    "name": "ipython",
    "version": 3
   },
   "file_extension": ".py",
   "mimetype": "text/x-python",
   "name": "python",
   "nbconvert_exporter": "python",
   "pygments_lexer": "ipython3",
   "version": "3.12.7"
  }
 },
 "nbformat": 4,
 "nbformat_minor": 5
}
